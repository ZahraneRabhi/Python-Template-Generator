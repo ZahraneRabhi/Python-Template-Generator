{
 "cells": [
  {
   "cell_type": "markdown",
   "metadata": {},
   "source": [
    "# Exploratory Data Analysis (EDA)\n",
    "<center>\n",
    "<img src=\"https://cdn1.iconfinder.com/data/icons/big-data-orchid-vol-1/256/Exploratory_Analysis-512.png\" alt=\"drawing\" width=\"260\"/>\n",
    "</center>\n",
    "\n",
    "This notebook focuses on performing exploratory data analysis *(EDA)* on the dataset. EDA helps in understanding the structure, patterns, and relationships in the data, which is crucial for making decisions before feeding it to a ML Algorithm.\n",
    "\n",
    "## Table of Contents\n",
    "1. [Introduction](#introduction)\n",
    "2. [Importing Libraries](#importing-libraries)\n",
    "3. [Loading the Data](#loading-the-data)\n",
    "4. [Data Overview](#data-overview)\n",
    "   - 4.1 [General Information](#general-information)\n",
    "   - 4.2 [Descriptive Statistics](#descriptive-statistics)\n",
    "5. [Conclusion](#conclusion)\n",
    "---"
   ]
  },
  {
   "cell_type": "markdown",
   "metadata": {},
   "source": [
    "## ***Introduction***\n",
    "\n",
    "- This notebook focuses on cleaning and preparing the raw data for analysis. The dataset used is defined as below:\n",
    "  - **<font color='red'>Dataset description </font>**\n",
    "  - **<font color='red'>Dataset source</font>**\n",
    "  - **<font color='red'>Dataset contents</font>**\n",
    "  - **<font color='red'>Dataset purpose</font>**\n",
    "---"
   ]
  },
  {
   "cell_type": "markdown",
   "metadata": {},
   "source": [
    "## Importing Libraries\n"
   ]
  },
  {
   "cell_type": "code",
   "execution_count": 3,
   "metadata": {},
   "outputs": [],
   "source": [
    "import numpy as np\n",
    "import pandas as pd\n",
    "# import __________"
   ]
  },
  {
   "cell_type": "markdown",
   "metadata": {},
   "source": [
    "## Loading the Data"
   ]
  },
  {
   "cell_type": "code",
   "execution_count": 4,
   "metadata": {},
   "outputs": [],
   "source": [
    "# Load the raw data into a DataFrame for exploration.\n",
    "# df = pd.read_csv(\"../data/raw_data.csv\")"
   ]
  },
  {
   "cell_type": "markdown",
   "metadata": {},
   "source": [
    "## Data Overview\n"
   ]
  },
  {
   "cell_type": "markdown",
   "metadata": {},
   "source": [
    "### General Information\n"
   ]
  },
  {
   "cell_type": "code",
   "execution_count": 5,
   "metadata": {},
   "outputs": [],
   "source": [
    "# Get general information about the DataFrame.\n",
    "# df.info()"
   ]
  },
  {
   "cell_type": "markdown",
   "metadata": {},
   "source": [
    "### Descriptive Statistics\n"
   ]
  },
  {
   "cell_type": "code",
   "execution_count": 6,
   "metadata": {},
   "outputs": [],
   "source": [
    "# Describe the DataFrame.\n",
    "# df.describe(include = \"all\")"
   ]
  },
  {
   "cell_type": "markdown",
   "metadata": {},
   "source": [
    "## Other"
   ]
  },
  {
   "cell_type": "code",
   "execution_count": 7,
   "metadata": {},
   "outputs": [],
   "source": [
    "# Other shit to be done"
   ]
  }
 ],
 "metadata": {
  "kernelspec": {
   "display_name": "Python 3",
   "language": "python",
   "name": "python3"
  },
  "language_info": {
   "codemirror_mode": {
    "name": "ipython",
    "version": 3
   },
   "file_extension": ".py",
   "mimetype": "text/x-python",
   "name": "python",
   "nbconvert_exporter": "python",
   "pygments_lexer": "ipython3",
   "version": "3.11.3"
  }
 },
 "nbformat": 4,
 "nbformat_minor": 2
}
